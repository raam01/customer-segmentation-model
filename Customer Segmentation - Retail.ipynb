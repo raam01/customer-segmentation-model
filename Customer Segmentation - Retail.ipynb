{
 "cells": [
  {
   "cell_type": "code",
   "execution_count": 91,
   "id": "766e0d3e",
   "metadata": {},
   "outputs": [],
   "source": [
    "#Imports\n",
    "import pandas as pd\n",
    "import numpy as np\n",
    "import matplotlib.pyplot as plt\n",
    "import seaborn as sns\n",
    "from matplotlib.pyplot import figure\n",
    "from sklearn.cluster import KMeans"
   ]
  },
  {
   "cell_type": "code",
   "execution_count": 92,
   "id": "bc5d620d",
   "metadata": {},
   "outputs": [
    {
     "data": {
      "text/html": [
       "<div>\n",
       "<style scoped>\n",
       "    .dataframe tbody tr th:only-of-type {\n",
       "        vertical-align: middle;\n",
       "    }\n",
       "\n",
       "    .dataframe tbody tr th {\n",
       "        vertical-align: top;\n",
       "    }\n",
       "\n",
       "    .dataframe thead th {\n",
       "        text-align: right;\n",
       "    }\n",
       "</style>\n",
       "<table border=\"1\" class=\"dataframe\">\n",
       "  <thead>\n",
       "    <tr style=\"text-align: right;\">\n",
       "      <th></th>\n",
       "      <th>InvoiceNo</th>\n",
       "      <th>StockCode</th>\n",
       "      <th>Description</th>\n",
       "      <th>Quantity</th>\n",
       "      <th>InvoiceDate</th>\n",
       "      <th>UnitPrice</th>\n",
       "      <th>CustomerID</th>\n",
       "      <th>Country</th>\n",
       "    </tr>\n",
       "  </thead>\n",
       "  <tbody>\n",
       "    <tr>\n",
       "      <th>0</th>\n",
       "      <td>536365</td>\n",
       "      <td>85123A</td>\n",
       "      <td>WHITE HANGING HEART T-LIGHT HOLDER</td>\n",
       "      <td>6</td>\n",
       "      <td>12/1/2010 8:26</td>\n",
       "      <td>2.55</td>\n",
       "      <td>17850.0</td>\n",
       "      <td>United Kingdom</td>\n",
       "    </tr>\n",
       "    <tr>\n",
       "      <th>1</th>\n",
       "      <td>536365</td>\n",
       "      <td>71053</td>\n",
       "      <td>WHITE METAL LANTERN</td>\n",
       "      <td>6</td>\n",
       "      <td>12/1/2010 8:26</td>\n",
       "      <td>3.39</td>\n",
       "      <td>17850.0</td>\n",
       "      <td>United Kingdom</td>\n",
       "    </tr>\n",
       "    <tr>\n",
       "      <th>2</th>\n",
       "      <td>536365</td>\n",
       "      <td>84406B</td>\n",
       "      <td>CREAM CUPID HEARTS COAT HANGER</td>\n",
       "      <td>8</td>\n",
       "      <td>12/1/2010 8:26</td>\n",
       "      <td>2.75</td>\n",
       "      <td>17850.0</td>\n",
       "      <td>United Kingdom</td>\n",
       "    </tr>\n",
       "    <tr>\n",
       "      <th>3</th>\n",
       "      <td>536365</td>\n",
       "      <td>84029G</td>\n",
       "      <td>KNITTED UNION FLAG HOT WATER BOTTLE</td>\n",
       "      <td>6</td>\n",
       "      <td>12/1/2010 8:26</td>\n",
       "      <td>3.39</td>\n",
       "      <td>17850.0</td>\n",
       "      <td>United Kingdom</td>\n",
       "    </tr>\n",
       "    <tr>\n",
       "      <th>4</th>\n",
       "      <td>536365</td>\n",
       "      <td>84029E</td>\n",
       "      <td>RED WOOLLY HOTTIE WHITE HEART.</td>\n",
       "      <td>6</td>\n",
       "      <td>12/1/2010 8:26</td>\n",
       "      <td>3.39</td>\n",
       "      <td>17850.0</td>\n",
       "      <td>United Kingdom</td>\n",
       "    </tr>\n",
       "  </tbody>\n",
       "</table>\n",
       "</div>"
      ],
      "text/plain": [
       "  InvoiceNo StockCode                          Description  Quantity  \\\n",
       "0    536365    85123A   WHITE HANGING HEART T-LIGHT HOLDER         6   \n",
       "1    536365     71053                  WHITE METAL LANTERN         6   \n",
       "2    536365    84406B       CREAM CUPID HEARTS COAT HANGER         8   \n",
       "3    536365    84029G  KNITTED UNION FLAG HOT WATER BOTTLE         6   \n",
       "4    536365    84029E       RED WOOLLY HOTTIE WHITE HEART.         6   \n",
       "\n",
       "      InvoiceDate  UnitPrice  CustomerID         Country  \n",
       "0  12/1/2010 8:26       2.55     17850.0  United Kingdom  \n",
       "1  12/1/2010 8:26       3.39     17850.0  United Kingdom  \n",
       "2  12/1/2010 8:26       2.75     17850.0  United Kingdom  \n",
       "3  12/1/2010 8:26       3.39     17850.0  United Kingdom  \n",
       "4  12/1/2010 8:26       3.39     17850.0  United Kingdom  "
      ]
     },
     "execution_count": 92,
     "metadata": {},
     "output_type": "execute_result"
    }
   ],
   "source": [
    "data=pd.read_csv(\"OnlineRetail.csv\")\n",
    "data.head()"
   ]
  },
  {
   "cell_type": "code",
   "execution_count": 93,
   "id": "d92b4ae4",
   "metadata": {},
   "outputs": [
    {
     "data": {
      "text/plain": [
       "InvoiceNo       object\n",
       "StockCode       object\n",
       "Description     object\n",
       "Quantity         int64\n",
       "InvoiceDate     object\n",
       "UnitPrice      float64\n",
       "CustomerID     float64\n",
       "Country         object\n",
       "dtype: object"
      ]
     },
     "execution_count": 93,
     "metadata": {},
     "output_type": "execute_result"
    }
   ],
   "source": [
    "#checking data types\n",
    "data.dtypes"
   ]
  },
  {
   "cell_type": "code",
   "execution_count": 94,
   "id": "1b01dc65",
   "metadata": {},
   "outputs": [],
   "source": [
    "#converting date into proper format\n",
    "data.InvoiceDate=pd.to_datetime(data.InvoiceDate)"
   ]
  },
  {
   "cell_type": "code",
   "execution_count": 95,
   "id": "76bdb632",
   "metadata": {
    "scrolled": true
   },
   "outputs": [
    {
     "data": {
      "text/plain": [
       "United Kingdom          495478\n",
       "Germany                   9495\n",
       "France                    8557\n",
       "EIRE                      8196\n",
       "Spain                     2533\n",
       "Netherlands               2371\n",
       "Belgium                   2069\n",
       "Switzerland               2002\n",
       "Portugal                  1519\n",
       "Australia                 1259\n",
       "Norway                    1086\n",
       "Italy                      803\n",
       "Channel Islands            758\n",
       "Finland                    695\n",
       "Cyprus                     622\n",
       "Sweden                     462\n",
       "Unspecified                446\n",
       "Austria                    401\n",
       "Denmark                    389\n",
       "Japan                      358\n",
       "Poland                     341\n",
       "Israel                     297\n",
       "USA                        291\n",
       "Hong Kong                  288\n",
       "Singapore                  229\n",
       "Iceland                    182\n",
       "Canada                     151\n",
       "Greece                     146\n",
       "Malta                      127\n",
       "United Arab Emirates        68\n",
       "European Community          61\n",
       "RSA                         58\n",
       "Lebanon                     45\n",
       "Lithuania                   35\n",
       "Brazil                      32\n",
       "Czech Republic              30\n",
       "Bahrain                     19\n",
       "Saudi Arabia                10\n",
       "Name: Country, dtype: int64"
      ]
     },
     "execution_count": 95,
     "metadata": {},
     "output_type": "execute_result"
    }
   ],
   "source": [
    "data.Country.value_counts()"
   ]
  },
  {
   "cell_type": "markdown",
   "id": "a01a53ad",
   "metadata": {},
   "source": [
    "### In this exercise, we are only concerned about the customers in U. So, we remove the data from other countries."
   ]
  },
  {
   "cell_type": "code",
   "execution_count": 96,
   "id": "eeebe5c9",
   "metadata": {
    "scrolled": true
   },
   "outputs": [
    {
     "data": {
      "text/plain": [
       "United Kingdom    495478\n",
       "Name: Country, dtype: int64"
      ]
     },
     "execution_count": 96,
     "metadata": {},
     "output_type": "execute_result"
    }
   ],
   "source": [
    "data=data.loc[data[\"Country\"]==\"United Kingdom\"] #removing other countries\n",
    "data.Country.value_counts() #confirming the removal"
   ]
  },
  {
   "cell_type": "markdown",
   "id": "fbc9a625",
   "metadata": {},
   "source": [
    "## Finding customer Recency"
   ]
  },
  {
   "cell_type": "code",
   "execution_count": 97,
   "id": "b615100a",
   "metadata": {},
   "outputs": [
    {
     "data": {
      "text/plain": [
       "CustomerID\n",
       "12346.0    325\n",
       "12747.0      1\n",
       "12748.0      0\n",
       "12749.0      3\n",
       "12820.0      2\n",
       "          ... \n",
       "18280.0    277\n",
       "18281.0    180\n",
       "18282.0      7\n",
       "18283.0      3\n",
       "18287.0     42\n",
       "Name: InvoiceDate, Length: 3950, dtype: int64"
      ]
     },
     "execution_count": 97,
     "metadata": {},
     "output_type": "execute_result"
    }
   ],
   "source": [
    "last_purchase=data.groupby(\"CustomerID\")[\"InvoiceDate\"].max()\n",
    "days_since_purchase=(last_purchase.max()-last_purchase).dt.days\n",
    "days_since_purchase"
   ]
  },
  {
   "cell_type": "code",
   "execution_count": 98,
   "id": "a1844d62",
   "metadata": {},
   "outputs": [
    {
     "data": {
      "text/html": [
       "<div>\n",
       "<style scoped>\n",
       "    .dataframe tbody tr th:only-of-type {\n",
       "        vertical-align: middle;\n",
       "    }\n",
       "\n",
       "    .dataframe tbody tr th {\n",
       "        vertical-align: top;\n",
       "    }\n",
       "\n",
       "    .dataframe thead th {\n",
       "        text-align: right;\n",
       "    }\n",
       "</style>\n",
       "<table border=\"1\" class=\"dataframe\">\n",
       "  <thead>\n",
       "    <tr style=\"text-align: right;\">\n",
       "      <th></th>\n",
       "      <th>CustomerID</th>\n",
       "      <th>days_since_purchase</th>\n",
       "    </tr>\n",
       "  </thead>\n",
       "  <tbody>\n",
       "    <tr>\n",
       "      <th>0</th>\n",
       "      <td>12346.0</td>\n",
       "      <td>325</td>\n",
       "    </tr>\n",
       "    <tr>\n",
       "      <th>1</th>\n",
       "      <td>12747.0</td>\n",
       "      <td>1</td>\n",
       "    </tr>\n",
       "    <tr>\n",
       "      <th>2</th>\n",
       "      <td>12748.0</td>\n",
       "      <td>0</td>\n",
       "    </tr>\n",
       "    <tr>\n",
       "      <th>3</th>\n",
       "      <td>12749.0</td>\n",
       "      <td>3</td>\n",
       "    </tr>\n",
       "    <tr>\n",
       "      <th>4</th>\n",
       "      <td>12820.0</td>\n",
       "      <td>2</td>\n",
       "    </tr>\n",
       "  </tbody>\n",
       "</table>\n",
       "</div>"
      ],
      "text/plain": [
       "   CustomerID  days_since_purchase\n",
       "0     12346.0                  325\n",
       "1     12747.0                    1\n",
       "2     12748.0                    0\n",
       "3     12749.0                    3\n",
       "4     12820.0                    2"
      ]
     },
     "execution_count": 98,
     "metadata": {},
     "output_type": "execute_result"
    }
   ],
   "source": [
    "user_data=pd.DataFrame(days_since_purchase).reset_index()\n",
    "user_data.columns=['CustomerID', 'days_since_purchase']\n",
    "user_data.head()"
   ]
  },
  {
   "cell_type": "markdown",
   "id": "f7e07e9b",
   "metadata": {},
   "source": [
    "## Clustering customers into different bins"
   ]
  },
  {
   "cell_type": "code",
   "execution_count": 99,
   "id": "7cfc388d",
   "metadata": {},
   "outputs": [
    {
     "data": {
      "text/plain": [
       "count    3950.000000\n",
       "mean       90.778481\n",
       "std       100.230349\n",
       "min         0.000000\n",
       "25%        16.000000\n",
       "50%        49.000000\n",
       "75%       142.000000\n",
       "max       373.000000\n",
       "Name: days_since_purchase, dtype: float64"
      ]
     },
     "execution_count": 99,
     "metadata": {},
     "output_type": "execute_result"
    }
   ],
   "source": [
    "user_data.days_since_purchase.describe()"
   ]
  },
  {
   "cell_type": "markdown",
   "id": "40dd81e9",
   "metadata": {},
   "source": [
    "### The mean # of days since last purchse is 90 and the median is 49. We can split the customers based on the qurtiles or bin them into clusters. Let us cluster them here."
   ]
  },
  {
   "cell_type": "code",
   "execution_count": 100,
   "id": "075d846a",
   "metadata": {},
   "outputs": [],
   "source": [
    "sse=[]\n",
    "\n",
    "for k in range(1,10):\n",
    "    clustering=KMeans(n_clusters=k)\n",
    "    clustering.fit(user_data[[\"days_since_purchase\"]])\n",
    "    sse.append(clustering.inertia_)"
   ]
  },
  {
   "cell_type": "code",
   "execution_count": 101,
   "id": "05696c95",
   "metadata": {},
   "outputs": [
    {
     "data": {
      "image/png": "[encoded data removed]",
      "text/plain": [
       "<Figure size 432x288 with 1 Axes>"
      ]
     },
     "metadata": {},
     "output_type": "display_data"
    }
   ],
   "source": [
    "#plotting the sse based on number of clusters\n",
    "sns.set()\n",
    "sns.lineplot(x=range(1,10),y=sse)\n",
    "plt.xlabel(\"clusters\")\n",
    "plt.ylabel(\"SSE\")\n",
    "plt.title(\"Clusters vs SSE plot based on recency\")\n",
    "plt.show()"
   ]
  },
  {
   "cell_type": "markdown",
   "id": "e26072cc",
   "metadata": {},
   "source": [
    "### We select 3 clusters as the elbow occurs at k=3. Let us assign this value to the customers"
   ]
  },
  {
   "cell_type": "code",
   "execution_count": 102,
   "id": "007f1c5b",
   "metadata": {},
   "outputs": [
    {
     "data": {
      "text/html": [
       "<div>\n",
       "<style scoped>\n",
       "    .dataframe tbody tr th:only-of-type {\n",
       "        vertical-align: middle;\n",
       "    }\n",
       "\n",
       "    .dataframe tbody tr th {\n",
       "        vertical-align: top;\n",
       "    }\n",
       "\n",
       "    .dataframe thead th {\n",
       "        text-align: right;\n",
       "    }\n",
       "</style>\n",
       "<table border=\"1\" class=\"dataframe\">\n",
       "  <thead>\n",
       "    <tr style=\"text-align: right;\">\n",
       "      <th></th>\n",
       "      <th>CustomerID</th>\n",
       "      <th>days_since_purchase</th>\n",
       "      <th>Recency</th>\n",
       "    </tr>\n",
       "  </thead>\n",
       "  <tbody>\n",
       "    <tr>\n",
       "      <th>0</th>\n",
       "      <td>12346.0</td>\n",
       "      <td>325</td>\n",
       "      <td>1</td>\n",
       "    </tr>\n",
       "    <tr>\n",
       "      <th>1</th>\n",
       "      <td>12747.0</td>\n",
       "      <td>1</td>\n",
       "      <td>0</td>\n",
       "    </tr>\n",
       "    <tr>\n",
       "      <th>2</th>\n",
       "      <td>12748.0</td>\n",
       "      <td>0</td>\n",
       "      <td>0</td>\n",
       "    </tr>\n",
       "    <tr>\n",
       "      <th>3</th>\n",
       "      <td>12749.0</td>\n",
       "      <td>3</td>\n",
       "      <td>0</td>\n",
       "    </tr>\n",
       "    <tr>\n",
       "      <th>4</th>\n",
       "      <td>12820.0</td>\n",
       "      <td>2</td>\n",
       "      <td>0</td>\n",
       "    </tr>\n",
       "    <tr>\n",
       "      <th>...</th>\n",
       "      <td>...</td>\n",
       "      <td>...</td>\n",
       "      <td>...</td>\n",
       "    </tr>\n",
       "    <tr>\n",
       "      <th>3945</th>\n",
       "      <td>18280.0</td>\n",
       "      <td>277</td>\n",
       "      <td>1</td>\n",
       "    </tr>\n",
       "    <tr>\n",
       "      <th>3946</th>\n",
       "      <td>18281.0</td>\n",
       "      <td>180</td>\n",
       "      <td>2</td>\n",
       "    </tr>\n",
       "    <tr>\n",
       "      <th>3947</th>\n",
       "      <td>18282.0</td>\n",
       "      <td>7</td>\n",
       "      <td>0</td>\n",
       "    </tr>\n",
       "    <tr>\n",
       "      <th>3948</th>\n",
       "      <td>18283.0</td>\n",
       "      <td>3</td>\n",
       "      <td>0</td>\n",
       "    </tr>\n",
       "    <tr>\n",
       "      <th>3949</th>\n",
       "      <td>18287.0</td>\n",
       "      <td>42</td>\n",
       "      <td>0</td>\n",
       "    </tr>\n",
       "  </tbody>\n",
       "</table>\n",
       "<p>3950 rows × 3 columns</p>\n",
       "</div>"
      ],
      "text/plain": [
       "      CustomerID  days_since_purchase  Recency\n",
       "0        12346.0                  325        1\n",
       "1        12747.0                    1        0\n",
       "2        12748.0                    0        0\n",
       "3        12749.0                    3        0\n",
       "4        12820.0                    2        0\n",
       "...          ...                  ...      ...\n",
       "3945     18280.0                  277        1\n",
       "3946     18281.0                  180        2\n",
       "3947     18282.0                    7        0\n",
       "3948     18283.0                    3        0\n",
       "3949     18287.0                   42        0\n",
       "\n",
       "[3950 rows x 3 columns]"
      ]
     },
     "execution_count": 102,
     "metadata": {},
     "output_type": "execute_result"
    }
   ],
   "source": [
    "clustering=KMeans(n_clusters=3)\n",
    "clustering.fit(user_data[[\"days_since_purchase\"]])\n",
    "user_data[\"Recency\"]=clustering.predict(user_data[[\"days_since_purchase\"]])\n",
    "user_data"
   ]
  },
  {
   "cell_type": "code",
   "execution_count": 103,
   "id": "8195638f",
   "metadata": {},
   "outputs": [],
   "source": [
    "#function for ordering cluster numbers\n",
    "def order_cluster(cluster_field_name, target_field_name,df,ascending):\n",
    "    new_cluster_field_name = 'new_' + cluster_field_name\n",
    "    df_new = df.groupby(cluster_field_name)[target_field_name].mean().reset_index()\n",
    "    df_new = df_new.sort_values(by=target_field_name,ascending=ascending).reset_index(drop=True)\n",
    "    df_new['index'] = df_new.index\n",
    "    df_final = pd.merge(df,df_new[[cluster_field_name,'index']], on=cluster_field_name)\n",
    "    df_final = df_final.drop([cluster_field_name],axis=1)\n",
    "    df_final = df_final.rename(columns={\"index\":cluster_field_name})\n",
    "    return df_final"
   ]
  },
  {
   "cell_type": "code",
   "execution_count": 104,
   "id": "17d4ef41",
   "metadata": {},
   "outputs": [],
   "source": [
    "#Ordering the clusters\n",
    "user_data=order_cluster(\"Recency\",\"days_since_purchase\",user_data,False)"
   ]
  },
  {
   "cell_type": "code",
   "execution_count": 128,
   "id": "8130dfe4",
   "metadata": {},
   "outputs": [
    {
     "data": {
      "image/png": "[encoded data removed]",
      "text/plain": [
       "<Figure size 720x360 with 1 Axes>"
      ]
     },
     "metadata": {},
     "output_type": "display_data"
    },
    {
     "data": {
      "text/plain": [
       "2    2651\n",
       "1     735\n",
       "0     564\n",
       "Name: Recency, dtype: int64"
      ]
     },
     "execution_count": 128,
     "metadata": {},
     "output_type": "execute_result"
    }
   ],
   "source": [
    "figure(figsize=(10,5))\n",
    "sns.histplot(data=user_data,x=\"days_since_purchase\",hue=\"Recency\",palette=\"Set1\",multiple=\"stack\")\n",
    "plt.show()\n",
    "user_data.Recency.value_counts()"
   ]
  },
  {
   "cell_type": "markdown",
   "id": "52187a3e",
   "metadata": {},
   "source": [
    "### The users that bought most recently have a value of 2 and the users that bought a lot of time before are given a value of 0."
   ]
  },
  {
   "cell_type": "markdown",
   "id": "f6f6c9a2",
   "metadata": {},
   "source": [
    "## Finding customer Frequency"
   ]
  },
  {
   "cell_type": "code",
   "execution_count": 107,
   "id": "c07050c8",
   "metadata": {},
   "outputs": [
    {
     "data": {
      "text/html": [
       "<div>\n",
       "<style scoped>\n",
       "    .dataframe tbody tr th:only-of-type {\n",
       "        vertical-align: middle;\n",
       "    }\n",
       "\n",
       "    .dataframe tbody tr th {\n",
       "        vertical-align: top;\n",
       "    }\n",
       "\n",
       "    .dataframe thead th {\n",
       "        text-align: right;\n",
       "    }\n",
       "</style>\n",
       "<table border=\"1\" class=\"dataframe\">\n",
       "  <thead>\n",
       "    <tr style=\"text-align: right;\">\n",
       "      <th></th>\n",
       "      <th>CustomerID</th>\n",
       "      <th>num_times_purchased</th>\n",
       "    </tr>\n",
       "  </thead>\n",
       "  <tbody>\n",
       "    <tr>\n",
       "      <th>0</th>\n",
       "      <td>12346.0</td>\n",
       "      <td>2</td>\n",
       "    </tr>\n",
       "    <tr>\n",
       "      <th>1</th>\n",
       "      <td>12747.0</td>\n",
       "      <td>103</td>\n",
       "    </tr>\n",
       "    <tr>\n",
       "      <th>2</th>\n",
       "      <td>12748.0</td>\n",
       "      <td>4642</td>\n",
       "    </tr>\n",
       "    <tr>\n",
       "      <th>3</th>\n",
       "      <td>12749.0</td>\n",
       "      <td>231</td>\n",
       "    </tr>\n",
       "    <tr>\n",
       "      <th>4</th>\n",
       "      <td>12820.0</td>\n",
       "      <td>59</td>\n",
       "    </tr>\n",
       "  </tbody>\n",
       "</table>\n",
       "</div>"
      ],
      "text/plain": [
       "   CustomerID  num_times_purchased\n",
       "0     12346.0                    2\n",
       "1     12747.0                  103\n",
       "2     12748.0                 4642\n",
       "3     12749.0                  231\n",
       "4     12820.0                   59"
      ]
     },
     "execution_count": 107,
     "metadata": {},
     "output_type": "execute_result"
    }
   ],
   "source": [
    "num_times_purchased=pd.DataFrame(data.groupby('CustomerID').InvoiceDate.count().reset_index())\n",
    "num_times_purchased.columns=[\"CustomerID\",\"num_times_purchased\"]\n",
    "num_times_purchased.head()"
   ]
  },
  {
   "cell_type": "code",
   "execution_count": 108,
   "id": "41c320f9",
   "metadata": {},
   "outputs": [],
   "source": [
    "#adding it to user_data dataframe\n",
    "user_data=pd.merge(user_data,num_times_purchased,on=\"CustomerID\")\n",
    "user_data.head()"
   ]
  },
  {
   "cell_type": "code",
   "execution_count": 110,
   "id": "9bda8150",
   "metadata": {
    "scrolled": true
   },
   "outputs": [
    {
     "data": {
      "text/plain": [
       "count    3950.000000\n",
       "mean       91.614684\n",
       "std       220.557389\n",
       "min         1.000000\n",
       "25%        17.000000\n",
       "50%        41.000000\n",
       "75%       101.000000\n",
       "max      7983.000000\n",
       "Name: num_times_purchased, dtype: float64"
      ]
     },
     "execution_count": 110,
     "metadata": {},
     "output_type": "execute_result"
    }
   ],
   "source": [
    "#looking at how the data looks:\n",
    "user_data[\"num_times_purchased\"].describe()"
   ]
  },
  {
   "cell_type": "markdown",
   "id": "9026f785",
   "metadata": {},
   "source": [
    "### The mean number of purchases is 91 and median is 41. Again, splitting into different clusters this time based on frequency"
   ]
  },
  {
   "cell_type": "code",
   "execution_count": 111,
   "id": "5f84df6e",
   "metadata": {},
   "outputs": [],
   "source": [
    "sse=[]\n",
    "\n",
    "for k in range(1,10):\n",
    "    clustering=KMeans(n_clusters=k)\n",
    "    clustering.fit(user_data[[\"num_times_purchased\"]])\n",
    "    sse.append(clustering.inertia_)"
   ]
  },
  {
   "cell_type": "code",
   "execution_count": 112,
   "id": "7c2b1df8",
   "metadata": {
    "scrolled": true
   },
   "outputs": [
    {
     "data": {
      "image/png": "[encoded data removed]",
      "text/plain": [
       "<Figure size 432x288 with 1 Axes>"
      ]
     },
     "metadata": {},
     "output_type": "display_data"
    }
   ],
   "source": [
    "#plotting the sse based on number of clusters\n",
    "sns.set()\n",
    "sns.lineplot(x=range(1,10),y=sse)\n",
    "plt.xlabel(\"clusters\")\n",
    "plt.ylabel(\"SSE\")\n",
    "plt.title(\"Clusters vs SSE plot based on frequency\")\n",
    "plt.show()"
   ]
  },
  {
   "cell_type": "markdown",
   "id": "dea4c42d",
   "metadata": {},
   "source": [
    "### There seems to be a sharp elbow at k=5. So, let us use 4 clusters for frequency."
   ]
  },
  {
   "cell_type": "code",
   "execution_count": 114,
   "id": "808d2a47",
   "metadata": {},
   "outputs": [
    {
     "data": {
      "text/html": [
       "<div>\n",
       "<style scoped>\n",
       "    .dataframe tbody tr th:only-of-type {\n",
       "        vertical-align: middle;\n",
       "    }\n",
       "\n",
       "    .dataframe tbody tr th {\n",
       "        vertical-align: top;\n",
       "    }\n",
       "\n",
       "    .dataframe thead th {\n",
       "        text-align: right;\n",
       "    }\n",
       "</style>\n",
       "<table border=\"1\" class=\"dataframe\">\n",
       "  <thead>\n",
       "    <tr style=\"text-align: right;\">\n",
       "      <th></th>\n",
       "      <th>CustomerID</th>\n",
       "      <th>days_since_purchase</th>\n",
       "      <th>Recency</th>\n",
       "      <th>num_times_purchased</th>\n",
       "      <th>Frequency</th>\n",
       "    </tr>\n",
       "  </thead>\n",
       "  <tbody>\n",
       "    <tr>\n",
       "      <th>0</th>\n",
       "      <td>12346.0</td>\n",
       "      <td>325</td>\n",
       "      <td>0</td>\n",
       "      <td>2</td>\n",
       "      <td>0</td>\n",
       "    </tr>\n",
       "    <tr>\n",
       "      <th>1</th>\n",
       "      <td>12829.0</td>\n",
       "      <td>321</td>\n",
       "      <td>0</td>\n",
       "      <td>12</td>\n",
       "      <td>0</td>\n",
       "    </tr>\n",
       "    <tr>\n",
       "      <th>2</th>\n",
       "      <td>12831.0</td>\n",
       "      <td>261</td>\n",
       "      <td>0</td>\n",
       "      <td>9</td>\n",
       "      <td>0</td>\n",
       "    </tr>\n",
       "    <tr>\n",
       "      <th>3</th>\n",
       "      <td>12834.0</td>\n",
       "      <td>282</td>\n",
       "      <td>0</td>\n",
       "      <td>18</td>\n",
       "      <td>0</td>\n",
       "    </tr>\n",
       "    <tr>\n",
       "      <th>4</th>\n",
       "      <td>12845.0</td>\n",
       "      <td>266</td>\n",
       "      <td>0</td>\n",
       "      <td>27</td>\n",
       "      <td>0</td>\n",
       "    </tr>\n",
       "  </tbody>\n",
       "</table>\n",
       "</div>"
      ],
      "text/plain": [
       "   CustomerID  days_since_purchase  Recency  num_times_purchased  Frequency\n",
       "0     12346.0                  325        0                    2          0\n",
       "1     12829.0                  321        0                   12          0\n",
       "2     12831.0                  261        0                    9          0\n",
       "3     12834.0                  282        0                   18          0\n",
       "4     12845.0                  266        0                   27          0"
      ]
     },
     "execution_count": 114,
     "metadata": {},
     "output_type": "execute_result"
    }
   ],
   "source": [
    "clustering=KMeans(n_clusters=4)\n",
    "clustering.fit(user_data[[\"num_times_purchased\"]])\n",
    "user_data[\"Frequency\"]=clustering.predict(user_data[[\"num_times_purchased\"]])\n",
    "user_data.head()"
   ]
  },
  {
   "cell_type": "code",
   "execution_count": 120,
   "id": "4a815b58",
   "metadata": {},
   "outputs": [],
   "source": [
    "#Ordering the clusters\n",
    "user_data=order_cluster(\"Frequency\",\"num_times_purchased\",user_data,True)"
   ]
  },
  {
   "cell_type": "code",
   "execution_count": 127,
   "id": "9389314d",
   "metadata": {},
   "outputs": [
    {
     "data": {
      "image/png": "[encoded data removed]",
      "text/plain": [
       "<Figure size 1080x432 with 1 Axes>"
      ]
     },
     "metadata": {},
     "output_type": "display_data"
    },
    {
     "data": {
      "text/plain": [
       "0    3496\n",
       "1     429\n",
       "2      22\n",
       "3       3\n",
       "Name: Frequency, dtype: int64"
      ]
     },
     "execution_count": 127,
     "metadata": {},
     "output_type": "execute_result"
    }
   ],
   "source": [
    "#plotting distribution based on clusters \n",
    "figure(figsize=(15,6))\n",
    "sns.histplot(data=user_data,x=\"num_times_purchased\",hue=\"Frequency\",palette=\"Set1\",multiple=\"stack\",log_scale=True)\n",
    "plt.xlabel(\"num_times_purchased(log)\")\n",
    "plt.title(\"Distribution of num_times_purchased(log)\")\n",
    "plt.show()\n",
    "user_data.Frequency.value_counts()"
   ]
  },
  {
   "cell_type": "markdown",
   "id": "b2b21952",
   "metadata": {},
   "source": [
    "### The distribution is shown in log sclae for better visualization. The most frequent purchases are having the highest value and the infrequent purchases have 0 as value. There are only 3 customers in the third cluster."
   ]
  },
  {
   "cell_type": "markdown",
   "id": "ffa21b72",
   "metadata": {},
   "source": [
    "## Grouping by Monetary value\n",
    "\n",
    "### To get the monetary value, the revenue is taken here by multiplying quantity and unit price."
   ]
  },
  {
   "cell_type": "code",
   "execution_count": 131,
   "id": "b4b0e825",
   "metadata": {},
   "outputs": [],
   "source": [
    "data[\"Revenue\"]=data[\"Quantity\"]*data[\"UnitPrice\"]"
   ]
  },
  {
   "cell_type": "code",
   "execution_count": 133,
   "id": "a08aa818",
   "metadata": {},
   "outputs": [
    {
     "data": {
      "text/html": [
       "<div>\n",
       "<style scoped>\n",
       "    .dataframe tbody tr th:only-of-type {\n",
       "        vertical-align: middle;\n",
       "    }\n",
       "\n",
       "    .dataframe tbody tr th {\n",
       "        vertical-align: top;\n",
       "    }\n",
       "\n",
       "    .dataframe thead th {\n",
       "        text-align: right;\n",
       "    }\n",
       "</style>\n",
       "<table border=\"1\" class=\"dataframe\">\n",
       "  <thead>\n",
       "    <tr style=\"text-align: right;\">\n",
       "      <th></th>\n",
       "      <th>CustomerID</th>\n",
       "      <th>revenue_generated</th>\n",
       "    </tr>\n",
       "  </thead>\n",
       "  <tbody>\n",
       "    <tr>\n",
       "      <th>0</th>\n",
       "      <td>12346.0</td>\n",
       "      <td>0.00</td>\n",
       "    </tr>\n",
       "    <tr>\n",
       "      <th>1</th>\n",
       "      <td>12747.0</td>\n",
       "      <td>4196.01</td>\n",
       "    </tr>\n",
       "    <tr>\n",
       "      <th>2</th>\n",
       "      <td>12748.0</td>\n",
       "      <td>29072.10</td>\n",
       "    </tr>\n",
       "    <tr>\n",
       "      <th>3</th>\n",
       "      <td>12749.0</td>\n",
       "      <td>3868.20</td>\n",
       "    </tr>\n",
       "    <tr>\n",
       "      <th>4</th>\n",
       "      <td>12820.0</td>\n",
       "      <td>942.34</td>\n",
       "    </tr>\n",
       "  </tbody>\n",
       "</table>\n",
       "</div>"
      ],
      "text/plain": [
       "   CustomerID  revenue_generated\n",
       "0     12346.0               0.00\n",
       "1     12747.0            4196.01\n",
       "2     12748.0           29072.10\n",
       "3     12749.0            3868.20\n",
       "4     12820.0             942.34"
      ]
     },
     "execution_count": 133,
     "metadata": {},
     "output_type": "execute_result"
    }
   ],
   "source": [
    "revenue_generated=pd.DataFrame(data.groupby('CustomerID').Revenue.sum().reset_index())\n",
    "revenue_generated.columns=[\"CustomerID\",\"revenue_generated\"]\n",
    "revenue_generated.head()"
   ]
  },
  {
   "cell_type": "code",
   "execution_count": 134,
   "id": "54321a87",
   "metadata": {},
   "outputs": [
    {
     "data": {
      "text/html": [
       "<div>\n",
       "<style scoped>\n",
       "    .dataframe tbody tr th:only-of-type {\n",
       "        vertical-align: middle;\n",
       "    }\n",
       "\n",
       "    .dataframe tbody tr th {\n",
       "        vertical-align: top;\n",
       "    }\n",
       "\n",
       "    .dataframe thead th {\n",
       "        text-align: right;\n",
       "    }\n",
       "</style>\n",
       "<table border=\"1\" class=\"dataframe\">\n",
       "  <thead>\n",
       "    <tr style=\"text-align: right;\">\n",
       "      <th></th>\n",
       "      <th>CustomerID</th>\n",
       "      <th>days_since_purchase</th>\n",
       "      <th>Recency</th>\n",
       "      <th>num_times_purchased</th>\n",
       "      <th>Frequency</th>\n",
       "      <th>revenue_generated</th>\n",
       "    </tr>\n",
       "  </thead>\n",
       "  <tbody>\n",
       "    <tr>\n",
       "      <th>0</th>\n",
       "      <td>12346.0</td>\n",
       "      <td>325</td>\n",
       "      <td>0</td>\n",
       "      <td>2</td>\n",
       "      <td>0</td>\n",
       "      <td>0.00</td>\n",
       "    </tr>\n",
       "    <tr>\n",
       "      <th>1</th>\n",
       "      <td>12829.0</td>\n",
       "      <td>321</td>\n",
       "      <td>0</td>\n",
       "      <td>12</td>\n",
       "      <td>0</td>\n",
       "      <td>253.05</td>\n",
       "    </tr>\n",
       "    <tr>\n",
       "      <th>2</th>\n",
       "      <td>12831.0</td>\n",
       "      <td>261</td>\n",
       "      <td>0</td>\n",
       "      <td>9</td>\n",
       "      <td>0</td>\n",
       "      <td>215.05</td>\n",
       "    </tr>\n",
       "    <tr>\n",
       "      <th>3</th>\n",
       "      <td>12834.0</td>\n",
       "      <td>282</td>\n",
       "      <td>0</td>\n",
       "      <td>18</td>\n",
       "      <td>0</td>\n",
       "      <td>312.38</td>\n",
       "    </tr>\n",
       "    <tr>\n",
       "      <th>4</th>\n",
       "      <td>12845.0</td>\n",
       "      <td>266</td>\n",
       "      <td>0</td>\n",
       "      <td>27</td>\n",
       "      <td>0</td>\n",
       "      <td>354.09</td>\n",
       "    </tr>\n",
       "  </tbody>\n",
       "</table>\n",
       "</div>"
      ],
      "text/plain": [
       "   CustomerID  days_since_purchase  Recency  num_times_purchased  Frequency  \\\n",
       "0     12346.0                  325        0                    2          0   \n",
       "1     12829.0                  321        0                   12          0   \n",
       "2     12831.0                  261        0                    9          0   \n",
       "3     12834.0                  282        0                   18          0   \n",
       "4     12845.0                  266        0                   27          0   \n",
       "\n",
       "   revenue_generated  \n",
       "0               0.00  \n",
       "1             253.05  \n",
       "2             215.05  \n",
       "3             312.38  \n",
       "4             354.09  "
      ]
     },
     "execution_count": 134,
     "metadata": {},
     "output_type": "execute_result"
    }
   ],
   "source": [
    "#adding it to user_data dataframe\n",
    "user_data=pd.merge(user_data,revenue_generated,on=\"CustomerID\")\n",
    "user_data.head()"
   ]
  },
  {
   "cell_type": "code",
   "execution_count": 135,
   "id": "d86363e3",
   "metadata": {},
   "outputs": [
    {
     "data": {
      "text/plain": [
       "count      3950.000000\n",
       "mean       1713.385669\n",
       "std        6548.608224\n",
       "min       -4287.630000\n",
       "25%         282.255000\n",
       "50%         627.060000\n",
       "75%        1521.782500\n",
       "max      256438.490000\n",
       "Name: revenue_generated, dtype: float64"
      ]
     },
     "execution_count": 135,
     "metadata": {},
     "output_type": "execute_result"
    }
   ],
   "source": [
    "#looking at how the data looks:\n",
    "user_data[\"revenue_generated\"].describe()"
   ]
  },
  {
   "cell_type": "markdown",
   "id": "0b59f686",
   "metadata": {},
   "source": [
    "### The mean amount spent is 1700 and the median is 600. There are some customers who have spent a negative amount which might need some investigation."
   ]
  },
  {
   "cell_type": "code",
   "execution_count": 136,
   "id": "d61466c9",
   "metadata": {},
   "outputs": [],
   "source": [
    "sse=[]\n",
    "\n",
    "for k in range(1,10):\n",
    "    clustering=KMeans(n_clusters=k)\n",
    "    clustering.fit(user_data[[\"revenue_generated\"]])\n",
    "    sse.append(clustering.inertia_)"
   ]
  },
  {
   "cell_type": "code",
   "execution_count": 137,
   "id": "5c9cf2b6",
   "metadata": {},
   "outputs": [
    {
     "data": {
      "image/png": "[encoded data removed]",
      "text/plain": [
       "<Figure size 432x288 with 1 Axes>"
      ]
     },
     "metadata": {},
     "output_type": "display_data"
    }
   ],
   "source": [
    "#plotting the sse based on number of clusters\n",
    "sns.set()\n",
    "sns.lineplot(x=range(1,10),y=sse)\n",
    "plt.xlabel(\"clusters\")\n",
    "plt.ylabel(\"SSE\")\n",
    "plt.title(\"Clusters vs SSE plot based on revenue\")\n",
    "plt.show()"
   ]
  },
  {
   "cell_type": "markdown",
   "id": "0a5fe6f9",
   "metadata": {},
   "source": [
    "### Since there is an elbow at 3, we will select 3 clusters. The customers who spent more money will haave a higher cluster number."
   ]
  },
  {
   "cell_type": "code",
   "execution_count": 139,
   "id": "1d8ebc5a",
   "metadata": {},
   "outputs": [
    {
     "data": {
      "text/html": [
       "<div>\n",
       "<style scoped>\n",
       "    .dataframe tbody tr th:only-of-type {\n",
       "        vertical-align: middle;\n",
       "    }\n",
       "\n",
       "    .dataframe tbody tr th {\n",
       "        vertical-align: top;\n",
       "    }\n",
       "\n",
       "    .dataframe thead th {\n",
       "        text-align: right;\n",
       "    }\n",
       "</style>\n",
       "<table border=\"1\" class=\"dataframe\">\n",
       "  <thead>\n",
       "    <tr style=\"text-align: right;\">\n",
       "      <th></th>\n",
       "      <th>CustomerID</th>\n",
       "      <th>days_since_purchase</th>\n",
       "      <th>Recency</th>\n",
       "      <th>num_times_purchased</th>\n",
       "      <th>Frequency</th>\n",
       "      <th>revenue_generated</th>\n",
       "      <th>Monetary</th>\n",
       "    </tr>\n",
       "  </thead>\n",
       "  <tbody>\n",
       "    <tr>\n",
       "      <th>0</th>\n",
       "      <td>12346.0</td>\n",
       "      <td>325</td>\n",
       "      <td>0</td>\n",
       "      <td>2</td>\n",
       "      <td>0</td>\n",
       "      <td>0.00</td>\n",
       "      <td>0</td>\n",
       "    </tr>\n",
       "    <tr>\n",
       "      <th>1</th>\n",
       "      <td>12829.0</td>\n",
       "      <td>321</td>\n",
       "      <td>0</td>\n",
       "      <td>12</td>\n",
       "      <td>0</td>\n",
       "      <td>253.05</td>\n",
       "      <td>0</td>\n",
       "    </tr>\n",
       "    <tr>\n",
       "      <th>2</th>\n",
       "      <td>12831.0</td>\n",
       "      <td>261</td>\n",
       "      <td>0</td>\n",
       "      <td>9</td>\n",
       "      <td>0</td>\n",
       "      <td>215.05</td>\n",
       "      <td>0</td>\n",
       "    </tr>\n",
       "    <tr>\n",
       "      <th>3</th>\n",
       "      <td>12834.0</td>\n",
       "      <td>282</td>\n",
       "      <td>0</td>\n",
       "      <td>18</td>\n",
       "      <td>0</td>\n",
       "      <td>312.38</td>\n",
       "      <td>0</td>\n",
       "    </tr>\n",
       "    <tr>\n",
       "      <th>4</th>\n",
       "      <td>12845.0</td>\n",
       "      <td>266</td>\n",
       "      <td>0</td>\n",
       "      <td>27</td>\n",
       "      <td>0</td>\n",
       "      <td>354.09</td>\n",
       "      <td>0</td>\n",
       "    </tr>\n",
       "  </tbody>\n",
       "</table>\n",
       "</div>"
      ],
      "text/plain": [
       "   CustomerID  days_since_purchase  Recency  num_times_purchased  Frequency  \\\n",
       "0     12346.0                  325        0                    2          0   \n",
       "1     12829.0                  321        0                   12          0   \n",
       "2     12831.0                  261        0                    9          0   \n",
       "3     12834.0                  282        0                   18          0   \n",
       "4     12845.0                  266        0                   27          0   \n",
       "\n",
       "   revenue_generated  Monetary  \n",
       "0               0.00         0  \n",
       "1             253.05         0  \n",
       "2             215.05         0  \n",
       "3             312.38         0  \n",
       "4             354.09         0  "
      ]
     },
     "execution_count": 139,
     "metadata": {},
     "output_type": "execute_result"
    }
   ],
   "source": [
    "clustering=KMeans(n_clusters=4)\n",
    "clustering.fit(user_data[[\"revenue_generated\"]])\n",
    "user_data[\"Monetary\"]=clustering.predict(user_data[[\"revenue_generated\"]])\n",
    "user_data.head()"
   ]
  },
  {
   "cell_type": "code",
   "execution_count": 141,
   "id": "67608890",
   "metadata": {},
   "outputs": [],
   "source": [
    "#Ordering the clusters\n",
    "user_data=order_cluster(\"Monetary\",\"revenue_generated\",user_data,True)"
   ]
  },
  {
   "cell_type": "code",
   "execution_count": 154,
   "id": "9ef9518f",
   "metadata": {},
   "outputs": [
    {
     "data": {
      "image/png": "[encoded data removed]",
      "text/plain": [
       "<Figure size 1080x432 with 1 Axes>"
      ]
     },
     "metadata": {},
     "output_type": "display_data"
    },
    {
     "data": {
      "text/plain": [
       "0    3687\n",
       "1     234\n",
       "2      27\n",
       "3       2\n",
       "Name: Monetary, dtype: int64"
      ]
     },
     "execution_count": 154,
     "metadata": {},
     "output_type": "execute_result"
    }
   ],
   "source": [
    "#plotting distribution based on clusters \n",
    "temp_for_plotting=user_data.loc[user_data[\"revenue_generated\"]>0]\n",
    "figure(figsize=(15,6))\n",
    "sns.histplot(data=temp_for_plotting,x=\"revenue_generated\",hue=\"Monetary\",palette=\"Set1\",multiple=\"stack\",log_scale=True)\n",
    "plt.xlabel(\"Revenue_generated(log)\")\n",
    "plt.title(\"Distribution of Revenue_generated(log)\")\n",
    "plt.xlim(0.1,1000000)\n",
    "plt.show()\n",
    "user_data.Monetary.value_counts()"
   ]
  },
  {
   "cell_type": "markdown",
   "id": "53930cc9",
   "metadata": {},
   "source": [
    "### There are 4 clusters based on revenue generated. The clusters with lower values are to show lower revenue and higher values show higher revenue"
   ]
  },
  {
   "cell_type": "code",
   "execution_count": 158,
   "id": "d6702137",
   "metadata": {},
   "outputs": [
    {
     "data": {
      "text/plain": [
       "2    2153\n",
       "1     723\n",
       "0     559\n",
       "3     326\n",
       "4     152\n",
       "5      27\n",
       "6       7\n",
       "7       3\n",
       "Name: net_score, dtype: int64"
      ]
     },
     "execution_count": 158,
     "metadata": {},
     "output_type": "execute_result"
    }
   ],
   "source": [
    "#Combining the Recency, Frequency and Monetary value to a single score,\n",
    "user_data[\"net_score\"]=user_data[\"Recency\"]+user_data[\"Frequency\"]+user_data[\"Monetary\"]\n",
    "user_data[\"net_score\"].value_counts()"
   ]
  },
  {
   "cell_type": "markdown",
   "id": "51591d72",
   "metadata": {},
   "source": [
    "### The maximum possible net score is 8 and minimum possible net score is 0. But, we do not have anyone with a score of 8. The net score ranges from 0 to 7."
   ]
  },
  {
   "cell_type": "code",
   "execution_count": 159,
   "id": "5df52119",
   "metadata": {},
   "outputs": [],
   "source": [
    "user_data[\"Segment\"]=\"Low-Value\"\n",
    "user_data.loc[user_data[\"net_score\"]>2,\"Segment\"]=\"Mid-Value\"\n",
    "user_data.loc[user_data[\"net_score\"]>4,\"Segment\"]=\"High-Value\""
   ]
  },
  {
   "cell_type": "code",
   "execution_count": 181,
   "id": "d2d77ad5",
   "metadata": {},
   "outputs": [
    {
     "data": {
      "image/png": "[encoded data removed]",
      "text/plain": [
       "<Figure size 1080x432 with 1 Axes>"
      ]
     },
     "metadata": {},
     "output_type": "display_data"
    }
   ],
   "source": [
    "figure(figsize=(15,6))\n",
    "sns.scatterplot(data=user_data,x=\"days_since_purchase\",y=\"revenue_generated\",hue=\"Segment\",s=80,style=\"Segment\")\n",
    "plt.legend(loc='best', prop={'size': 16})\n",
    "plt.show()"
   ]
  },
  {
   "cell_type": "code",
   "execution_count": 182,
   "id": "ef34efb1",
   "metadata": {},
   "outputs": [
    {
     "data": {
      "image/png": "[encoded data removed]",
      "text/plain": [
       "<Figure size 1080x432 with 1 Axes>"
      ]
     },
     "metadata": {},
     "output_type": "display_data"
    }
   ],
   "source": [
    "figure(figsize=(15,6))\n",
    "sns.scatterplot(data=user_data,x=\"num_times_purchased\",y=\"revenue_generated\",hue=\"Segment\",s=80,style=\"Segment\")\n",
    "plt.legend(loc='best', prop={'size': 16})\n",
    "plt.show()"
   ]
  },
  {
   "cell_type": "markdown",
   "id": "60a4b9f0",
   "metadata": {},
   "source": [
    "### The segmentation seems to work well in grouping customers in regards to their spending, frequency and recency. \n",
    "\n",
    "### Such segmentation can be used to target customers in specific segments and run trials to increase revenue and profit."
   ]
  },
  {
   "cell_type": "code",
   "execution_count": null,
   "id": "cbb78702",
   "metadata": {},
   "outputs": [],
   "source": []
  },
  {
   "cell_type": "code",
   "execution_count": null,
   "id": "130c2424",
   "metadata": {},
   "outputs": [],
   "source": []
  }
 ],
 "metadata": {
  "kernelspec": {
   "display_name": "Python 3",
   "language": "python",
   "name": "python3"
  },
  "language_info": {
   "codemirror_mode": {
    "name": "ipython",
    "version": 3
   },
   "file_extension": ".py",
   "mimetype": "text/x-python",
   "name": "python",
   "nbconvert_exporter": "python",
   "pygments_lexer": "ipython3",
   "version": "3.8.8"
  }
 },
 "nbformat": 4,
 "nbformat_minor": 5
}
